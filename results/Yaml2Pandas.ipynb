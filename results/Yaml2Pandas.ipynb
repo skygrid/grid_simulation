{
 "cells": [
  {
   "cell_type": "code",
   "execution_count": 1,
   "metadata": {
    "collapsed": true
   },
   "outputs": [],
   "source": [
    "import pandas\n",
    "import numpy\n",
    "import yaml"
   ]
  },
  {
   "cell_type": "markdown",
   "metadata": {},
   "source": [
    "# Read YAML data"
   ]
  },
  {
   "cell_type": "code",
   "execution_count": 2,
   "metadata": {
    "collapsed": true
   },
   "outputs": [],
   "source": [
    "import yaml\n",
    "with open('data/real/jobs.yml') as f:\n",
    "    real_data_yml = yaml.safe_load(f)"
   ]
  },
  {
   "cell_type": "code",
   "execution_count": 3,
   "metadata": {
    "collapsed": false
   },
   "outputs": [
    {
     "data": {
      "text/plain": [
       "{'EndExecTime': 1475347814.0,\n",
       " 'Federation': 'RAL-LCG2',\n",
       " 'InputFiles': ['/lhcb/LHCb/Collision16/RDST/00053882/0002/00053882_00022563_1.rdst'],\n",
       " 'JobGroup': 53934.0,\n",
       " 'JobType': 'DataStripping',\n",
       " 'LocalJobID': 'None',\n",
       " 'OutputFiles': ['/lhcb/LHCb/Collision16/BHADRON.MDST/00053934/0002/00053934_00023415_1.Bhadron.mdst',\n",
       "  '/lhcb/LHCb/Collision16/BHADRONCOMPLETEEVENT.DST/00053934/0002/00053934_00023415_1.BhadronCompleteEvent.dst',\n",
       "  '/lhcb/LHCb/Collision16/CALIBRATION.DST/00053934/0002/00053934_00023415_1.Calibration.dst',\n",
       "  '/lhcb/LHCb/Collision16/CHARM.MDST/00053934/0002/00053934_00023415_1.Charm.mdst',\n",
       "  '/lhcb/LHCb/Collision16/CHARMCOMPLETEEVENT.DST/00053934/0002/00053934_00023415_1.CharmCompleteEvent.dst',\n",
       "  '/lhcb/LHCb/Collision16/DIMUON.DST/00053934/0002/00053934_00023415_1.Dimuon.dst',\n",
       "  '/lhcb/LHCb/Collision16/EW.DST/00053934/0002/00053934_00023415_1.EW.dst',\n",
       "  '/lhcb/LHCb/Collision16/LEPTONIC.MDST/00053934/0002/00053934_00023415_1.Leptonic.mdst',\n",
       "  '/lhcb/LHCb/Collision16/LOG/00053934/0002/00023415/DaVinci_00053934_00023415_1.log',\n",
       "  '/lhcb/LHCb/Collision16/MDST.DST/00053934/0002/00053934_00023415_1.MDST.dst',\n",
       "  '/lhcb/LHCb/Collision16/MINIBIAS.DST/00053934/0002/00053934_00023415_1.MiniBias.dst',\n",
       "  '/lhcb/LHCb/Collision16/RADIATIVE.DST/00053934/0002/00053934_00023415_1.Radiative.dst',\n",
       "  '/lhcb/LHCb/Collision16/SEMILEPTONIC.DST/00053934/0002/00053934_00023415_1.Semileptonic.dst'],\n",
       " 'RescheduleTime': 'None',\n",
       " 'StartExecTime': 1475310044.0,\n",
       " 'Status': 'Done',\n",
       " 'SubmissionTime': 1475309580.0,\n",
       " 'SystemPriority': 0.0,\n",
       " 'TotalCPUTime(s)': 33339.05,\n",
       " 'UserPriority': 5.0,\n",
       " 'WallClockTime(s)': 37757.996412}"
      ]
     },
     "execution_count": 3,
     "metadata": {},
     "output_type": "execute_result"
    }
   ],
   "source": [
    "job_ids = real_data_yml.keys()\n",
    "one_job = real_data_yml[job_ids[0]]\n",
    "one_job"
   ]
  },
  {
   "cell_type": "markdown",
   "metadata": {},
   "source": [
    "# Create Pandas time data"
   ]
  },
  {
   "cell_type": "code",
   "execution_count": 4,
   "metadata": {
    "collapsed": true
   },
   "outputs": [],
   "source": [
    "submission_time = numpy.array([real_data_yml[i]['SubmissionTime'] for i in job_ids])\n",
    "start_exec_time = numpy.array([real_data_yml[i]['StartExecTime'] for i in job_ids])\n",
    "end_exec_time = numpy.array([real_data_yml[i]['EndExecTime'] for i in job_ids])\n",
    "wall_clock_time = numpy.array([real_data_yml[i]['WallClockTime(s)'] for i in job_ids])\n",
    "tot_cpu_time = numpy.array([real_data_yml[i]['TotalCPUTime(s)'] for i in job_ids])\n",
    "job_types = numpy.array([real_data_yml[i]['JobType'] for i in job_ids])\n",
    "tier = numpy.array([real_data_yml[i]['Federation'] for i in job_ids])"
   ]
  },
  {
   "cell_type": "code",
   "execution_count": 5,
   "metadata": {
    "collapsed": false
   },
   "outputs": [],
   "source": [
    "real_data = pandas.DataFrame()\n",
    "real_data['JobName'] = job_ids\n",
    "real_data['SubmissionTime'] = submission_time\n",
    "real_data['StartExecTime'] = start_exec_time\n",
    "real_data['EndExecTime'] = end_exec_time\n",
    "real_data['WallClockTime'] = wall_clock_time\n",
    "real_data['TotalCPUTime'] = tot_cpu_time\n",
    "real_data['JobType'] = job_types\n",
    "real_data['Tier'] = tier"
   ]
  },
  {
   "cell_type": "code",
   "execution_count": 6,
   "metadata": {
    "collapsed": false
   },
   "outputs": [
    {
     "data": {
      "text/html": [
       "<div>\n",
       "<table border=\"1\" class=\"dataframe\">\n",
       "  <thead>\n",
       "    <tr style=\"text-align: right;\">\n",
       "      <th></th>\n",
       "      <th>JobName</th>\n",
       "      <th>SubmissionTime</th>\n",
       "      <th>StartExecTime</th>\n",
       "      <th>EndExecTime</th>\n",
       "      <th>WallClockTime</th>\n",
       "      <th>TotalCPUTime</th>\n",
       "      <th>JobType</th>\n",
       "      <th>Tier</th>\n",
       "    </tr>\n",
       "  </thead>\n",
       "  <tbody>\n",
       "    <tr>\n",
       "      <th>0</th>\n",
       "      <td>141688832</td>\n",
       "      <td>1475309580</td>\n",
       "      <td>1475310044.0</td>\n",
       "      <td>1475347814.0</td>\n",
       "      <td>37757.996412</td>\n",
       "      <td>33339.05</td>\n",
       "      <td>DataStripping</td>\n",
       "      <td>RAL-LCG2</td>\n",
       "    </tr>\n",
       "    <tr>\n",
       "      <th>1</th>\n",
       "      <td>141688833</td>\n",
       "      <td>1475309581</td>\n",
       "      <td>1475310048.0</td>\n",
       "      <td>1475346524.0</td>\n",
       "      <td>36464.665066</td>\n",
       "      <td>34800.88</td>\n",
       "      <td>DataStripping</td>\n",
       "      <td>RAL-LCG2</td>\n",
       "    </tr>\n",
       "    <tr>\n",
       "      <th>2</th>\n",
       "      <td>141688834</td>\n",
       "      <td>1475309581</td>\n",
       "      <td>1475310136.0</td>\n",
       "      <td>1475346309.0</td>\n",
       "      <td>36154.8810921</td>\n",
       "      <td>33842.75</td>\n",
       "      <td>DataStripping</td>\n",
       "      <td>RAL-LCG2</td>\n",
       "    </tr>\n",
       "    <tr>\n",
       "      <th>3</th>\n",
       "      <td>141688835</td>\n",
       "      <td>1475309581</td>\n",
       "      <td>1475310057.0</td>\n",
       "      <td>1475349440.0</td>\n",
       "      <td>39369.956562</td>\n",
       "      <td>37084.31</td>\n",
       "      <td>DataStripping</td>\n",
       "      <td>RAL-LCG2</td>\n",
       "    </tr>\n",
       "    <tr>\n",
       "      <th>4</th>\n",
       "      <td>141688836</td>\n",
       "      <td>1475309581</td>\n",
       "      <td>1475310335.0</td>\n",
       "      <td>1475349830.0</td>\n",
       "      <td>39478.106035</td>\n",
       "      <td>38007.07</td>\n",
       "      <td>DataStripping</td>\n",
       "      <td>RAL-LCG2</td>\n",
       "    </tr>\n",
       "  </tbody>\n",
       "</table>\n",
       "</div>"
      ],
      "text/plain": [
       "     JobName  SubmissionTime StartExecTime   EndExecTime  WallClockTime  \\\n",
       "0  141688832      1475309580  1475310044.0  1475347814.0   37757.996412   \n",
       "1  141688833      1475309581  1475310048.0  1475346524.0   36464.665066   \n",
       "2  141688834      1475309581  1475310136.0  1475346309.0  36154.8810921   \n",
       "3  141688835      1475309581  1475310057.0  1475349440.0   39369.956562   \n",
       "4  141688836      1475309581  1475310335.0  1475349830.0   39478.106035   \n",
       "\n",
       "  TotalCPUTime        JobType      Tier  \n",
       "0     33339.05  DataStripping  RAL-LCG2  \n",
       "1     34800.88  DataStripping  RAL-LCG2  \n",
       "2     33842.75  DataStripping  RAL-LCG2  \n",
       "3     37084.31  DataStripping  RAL-LCG2  \n",
       "4     38007.07  DataStripping  RAL-LCG2  "
      ]
     },
     "execution_count": 6,
     "metadata": {},
     "output_type": "execute_result"
    }
   ],
   "source": [
    "real_data.head()"
   ]
  },
  {
   "cell_type": "code",
   "execution_count": 7,
   "metadata": {
    "collapsed": true
   },
   "outputs": [],
   "source": [
    "real_data.to_csv('data/real/real_out.txt', index=False)"
   ]
  },
  {
   "cell_type": "code",
   "execution_count": null,
   "metadata": {
    "collapsed": true
   },
   "outputs": [],
   "source": []
  }
 ],
 "metadata": {
  "kernelspec": {
   "display_name": "Python 2",
   "language": "python",
   "name": "python2"
  },
  "language_info": {
   "codemirror_mode": {
    "name": "ipython",
    "version": 2
   },
   "file_extension": ".py",
   "mimetype": "text/x-python",
   "name": "python",
   "nbconvert_exporter": "python",
   "pygments_lexer": "ipython2",
   "version": "2.7.11"
  }
 },
 "nbformat": 4,
 "nbformat_minor": 0
}
